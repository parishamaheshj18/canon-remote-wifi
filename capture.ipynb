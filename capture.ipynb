{
 "cells": [
  {
   "cell_type": "code",
   "execution_count": 92,
   "id": "2b8e4f1a",
   "metadata": {},
   "outputs": [],
   "source": [
    "\"\"\"\n",
    "This Script uses the canomate tool from https://github.com/horshack-dpreview/Canomate.git \n",
    "Online Manual - https://www.testcams.com/canomate/ \n",
    "Which is used to communicate with canon camera using Canon Camera API (CCAPI) via WiFi\n",
    "To activate CCAPI in canon camera follow \"Camera setup\" steps in online manual.\n",
    "Also set the static IP in cameras.\n",
    "\n",
    "@author = Parisha Joshi\n",
    "\n",
    "\"\"\"\n",
    "\n",
    "import pandas as pd\n",
    "from io import StringIO\n",
    "from datetime import datetime\n",
    "import ipywidgets as widgets\n",
    "from IPython.display import Image, display\n",
    "from ccapi.ccapi import CCAPI\n",
    "from ccapi.ccapi import df_from_csv\n",
    "import os"
   ]
  },
  {
   "cell_type": "code",
   "execution_count": 113,
   "id": "83bd80a0",
   "metadata": {},
   "outputs": [],
   "source": [
    "def takeTestPhoto(camIP, script):\n",
    "    os.system('python canomate.py --ipaddress=\"{}\" --opfile=\"{}\"'.format(camIP,script))\n",
    "    \n",
    "def threeExposureShoot(camIP, script,exposures):\n",
    "#     modifySpeedAtLine1=0\n",
    "#     modifySpeedAtLine2=0\n",
    "#     modifySpeedAtLine3=0\n",
    "    with open(script) as f:\n",
    "        for num,line in enumerate(f,1):\n",
    "            if \"shutterspeed1\" in line:\n",
    "                modifySpeedAtLine1 = num\n",
    "    with open(script) as f:\n",
    "        for num,line in enumerate(f,1):\n",
    "            if \"shutterspeed2\" in line:\n",
    "                modifySpeedAtLine2 = num\n",
    "    with open(script) as f:\n",
    "        for num,line in enumerate(f,1):\n",
    "            if \"shutterspeed3\" in line:\n",
    "                modifySpeedAtLine3 = num\n",
    "    with open(script,\"r\") as f:\n",
    "        data= f.readlines()\n",
    "    \n",
    "    data[modifySpeedAtLine1] = \"SetShutterSpeed shutterspeed={shutterspeed} \\n\".format(shutterspeed=exposures[0])\n",
    "    data[modifySpeedAtLine2] = \"SetShutterSpeed shutterspeed={shutterspeed} \\n\".format(shutterspeed=exposures[1])   \n",
    "    data[modifySpeedAtLine3] = \"SetShutterSpeed shutterspeed={shutterspeed} \\n\".format(shutterspeed=exposures[2])\n",
    "\n",
    "    with open(script,\"w\") as f:\n",
    "        f.writelines(data)\n",
    "   \n",
    "                \n",
    "        \n",
    "#     os.system('python canomate.py --ipaddress=\"{}\" --opfile=\"{}\"'.format(camIP,script))\n",
    "    \n",
    "    \n",
    "    \n",
    "if __name__==\"__main__\":\n",
    "    test1 = False  # takes test photo\n",
    "    test2 = True # takes 3 photos with 3 exposures.\n",
    "    \n",
    "    if test1==True:\n",
    "        cameraIPAddress = \"192.168.1.2\"\n",
    "        canomateAutomationScriptFile =  \"test1.txt\"\n",
    "        takeTestPhoto(cameraIPAddress,canomateAutomationScriptFile)\n",
    "        \n",
    "    if test2==True:\n",
    "        cameraIPAddress = \"192.168.1.2\"\n",
    "        canomateAutomationScriptFile =  \"test2test.txt\"\n",
    "        exposures=[\"1/8\",\"1/30\",\"1/200\"]\n",
    "        threeExposureShoot(cameraIPAddress,canomateAutomationScriptFile,exposures)\n",
    "    \n",
    "    \n",
    "    \n",
    "    \n",
    "\n",
    "# os.system('export CANON_IP = \"192.168.1.2\"')\n",
    "# os.system('python canomate.py --ipaddress=\"192.168.1.2\" --opfile=\"canon_script.txt\"')"
   ]
  },
  {
   "cell_type": "code",
   "execution_count": null,
   "id": "29e630a2",
   "metadata": {},
   "outputs": [],
   "source": [
    "\n"
   ]
  },
  {
   "cell_type": "code",
   "execution_count": null,
   "id": "154b43f1",
   "metadata": {},
   "outputs": [],
   "source": []
  }
 ],
 "metadata": {
  "kernelspec": {
   "display_name": "Python 3 (ipykernel)",
   "language": "python",
   "name": "python3"
  },
  "language_info": {
   "codemirror_mode": {
    "name": "ipython",
    "version": 3
   },
   "file_extension": ".py",
   "mimetype": "text/x-python",
   "name": "python",
   "nbconvert_exporter": "python",
   "pygments_lexer": "ipython3",
   "version": "3.8.16"
  }
 },
 "nbformat": 4,
 "nbformat_minor": 5
}
